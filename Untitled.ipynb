{
 "cells": [
  {
   "cell_type": "markdown",
   "id": "fd9ce08c",
   "metadata": {},
   "source": [
    "# DZ 1 Немного EDA для маркетинговых данных"
   ]
  },
  {
   "cell_type": "markdown",
   "id": "c2a21cb7",
   "metadata": {},
   "source": [
    "*Вам предложены данные iFood — приложения для доставки еды в Бразилии, представленного более чем в тысяче городов. Поддержание высокой вовлеченности клиентов является важной задачей для компании. Для того, чтобы создавать новые предложения и проводить качественные рекламные кампании, необходимо понимать особенности и потребности целевой аудитории. Для этого были собраны данные о клиентах, использующих приложение. Вам предстоит выявить особенности людей, пользующихся данным приложением и найти интересные закономерности.*"
   ]
  },
  {
   "cell_type": "markdown",
   "id": "a283f194",
   "metadata": {},
   "source": [
    "*Описание данных:*\n",
    "\n",
    "* AcceptedCmp1 - 1 if customer accepted the offer in the 1st campaign, 0 otherwise\n",
    "* AcceptedCmp2 - 1 if customer accepted the offer in the 2nd campaign, 0 otherwise\n",
    "* AcceptedCmp3 - 1 if customer accepted the offer in the 3rd campaign, 0 otherwise\n",
    "* AcceptedCmp4 - 1 if customer accepted the offer in the 4th campaign, 0 otherwise\n",
    "* AcceptedCmp5 - 1 if customer accepted the offer in the 5th campaign, 0 otherwise\n",
    "* Response (target) - 1 if customer accepted the offer in the last campaign, 0 otherwise\n",
    "* Complain - 1 if customer complained in the last 2 years\n",
    "* DtCustomer - date of customer’s enrolment with the company\n",
    "* Education - customer’s level of education\n",
    "* Marital - customer’s marital status\n",
    "* Kidhome - number of small children in customer’s household\n",
    "* Teenhome - number of teenagers in customer’s household\n",
    "* Income - customer’s yearly household income\n",
    "* MntFishProducts - amount spent on fish products in the last 2 years\n",
    "* MntMeatProducts - amount spent on meat products in the last 2 years\n",
    "* MntFruits - amount spent on fruits products in the last 2 years\n",
    "* MntSweetProducts - amount spent on sweet products in the last 2 years\n",
    "* MntWines - amount spent on wine products in the last 2 years\n",
    "* MntGoldProds - amount spent on gold products in the last 2 years\n",
    "* NumDealsPurchases - number of purchases made with discount\n",
    "* NumCatalogPurchases - number of purchases made using catalogue\n",
    "* NumStorePurchases - number of purchases made directly in stores\n",
    "* NumWebPurchases - number of purchases made through company’s web site\n",
    "* NumWebVisitsMonth - number of visits to company’s web site in the last month\n",
    "* Recency - number of days since the last purchase"
   ]
  },
  {
   "cell_type": "markdown",
   "id": "0cfd5d64",
   "metadata": {},
   "source": [
    "### Задание 1 (1 балл): предобработка данных"
   ]
  },
  {
   "cell_type": "code",
   "execution_count": 1,
   "id": "bb3c511b",
   "metadata": {},
   "outputs": [
    {
     "name": "stdout",
     "output_type": "stream",
     "text": [
      "<class 'pandas.core.frame.DataFrame'>\n",
      "RangeIndex: 2240 entries, 0 to 2239\n",
      "Data columns (total 28 columns):\n",
      " #   Column               Non-Null Count  Dtype \n",
      "---  ------               --------------  ----- \n",
      " 0   ID                   2240 non-null   int64 \n",
      " 1   Year_Birth           2240 non-null   int64 \n",
      " 2   Education            2240 non-null   object\n",
      " 3   Marital_Status       2240 non-null   object\n",
      " 4   Income               2216 non-null   object\n",
      " 5   Kidhome              2240 non-null   int64 \n",
      " 6   Teenhome             2240 non-null   int64 \n",
      " 7   Dt_Customer          2240 non-null   object\n",
      " 8   Recency              2240 non-null   int64 \n",
      " 9   MntWines             2240 non-null   int64 \n",
      " 10  MntFruits            2240 non-null   int64 \n",
      " 11  MntMeatProducts      2240 non-null   int64 \n",
      " 12  MntFishProducts      2240 non-null   int64 \n",
      " 13  MntSweetProducts     2240 non-null   int64 \n",
      " 14  MntGoldProds         2240 non-null   int64 \n",
      " 15  NumDealsPurchases    2240 non-null   int64 \n",
      " 16  NumWebPurchases      2240 non-null   int64 \n",
      " 17  NumCatalogPurchases  2240 non-null   int64 \n",
      " 18  NumStorePurchases    2240 non-null   int64 \n",
      " 19  NumWebVisitsMonth    2240 non-null   int64 \n",
      " 20  AcceptedCmp3         2240 non-null   int64 \n",
      " 21  AcceptedCmp4         2240 non-null   int64 \n",
      " 22  AcceptedCmp5         2240 non-null   int64 \n",
      " 23  AcceptedCmp1         2240 non-null   int64 \n",
      " 24  AcceptedCmp2         2240 non-null   int64 \n",
      " 25  Response             2240 non-null   int64 \n",
      " 26  Complain             2240 non-null   int64 \n",
      " 27  Country              2240 non-null   object\n",
      "dtypes: int64(23), object(5)\n",
      "memory usage: 490.1+ KB\n"
     ]
    }
   ],
   "source": [
    "import numpy as np\n",
    "import pandas as pd\n",
    "import re\n",
    "import seaborn as sns\n",
    "import matplotlib.pyplot as plt\n",
    "df = pd.read_csv(\"marketing.csv\")\n",
    "df.info()"
   ]
  },
  {
   "cell_type": "markdown",
   "id": "6d6dec58",
   "metadata": {},
   "source": [
    "*В представленных данных есть два типа данных- количественные и категориальные и данные.Признак Dt_Customer представлен в неудобном виде.*"
   ]
  },
  {
   "cell_type": "code",
   "execution_count": 2,
   "id": "8728bc0d",
   "metadata": {},
   "outputs": [],
   "source": [
    "df['Income'] = pd.to_numeric(df['Income'],errors = 'coerce')"
   ]
  },
  {
   "cell_type": "code",
   "execution_count": 3,
   "id": "5b93d6d1",
   "metadata": {},
   "outputs": [],
   "source": [
    "df['Dt_Customer']=pd.to_datetime(df['Dt_Customer'], errors='ignore')"
   ]
  },
  {
   "cell_type": "markdown",
   "id": "74b1f957",
   "metadata": {},
   "source": [
    "### Задание 2 (1.5 балла): пропуски и выбросы"
   ]
  },
  {
   "cell_type": "markdown",
   "id": "3e60a10a",
   "metadata": {},
   "source": [
    "**Обработка пропущенных значений**"
   ]
  },
  {
   "cell_type": "markdown",
   "id": "4dbb8061",
   "metadata": {},
   "source": [
    "*В начале нужно убедиться, есть ли пропущенные значения в исходных данных, и удалим признаки с пропущенными значениями, если их больше 95%, так как он считаются неинформативными:*"
   ]
  },
  {
   "cell_type": "code",
   "execution_count": 4,
   "id": "42dc8f10",
   "metadata": {},
   "outputs": [
    {
     "name": "stdout",
     "output_type": "stream",
     "text": [
      "ID-0%\n",
      "Year_Birth-0%\n",
      "Education-0%\n",
      "Marital_Status-0%\n",
      "Income-100%\n",
      "Kidhome-0%\n",
      "Teenhome-0%\n",
      "Dt_Customer-0%\n",
      "Recency-0%\n",
      "MntWines-0%\n",
      "MntFruits-0%\n",
      "MntMeatProducts-0%\n",
      "MntFishProducts-0%\n",
      "MntSweetProducts-0%\n",
      "MntGoldProds-0%\n",
      "NumDealsPurchases-0%\n",
      "NumWebPurchases-0%\n",
      "NumCatalogPurchases-0%\n",
      "NumStorePurchases-0%\n",
      "NumWebVisitsMonth-0%\n",
      "AcceptedCmp3-0%\n",
      "AcceptedCmp4-0%\n",
      "AcceptedCmp5-0%\n",
      "AcceptedCmp1-0%\n",
      "AcceptedCmp2-0%\n",
      "Response-0%\n",
      "Complain-0%\n",
      "Country-0%\n"
     ]
    }
   ],
   "source": [
    "for col in df.columns:\n",
    "    missing=np.mean(df[col].isnull())\n",
    "    print(\"{}-{}%\".format(col, round(missing*100)))"
   ]
  },
  {
   "cell_type": "code",
   "execution_count": 5,
   "id": "27bc9891",
   "metadata": {},
   "outputs": [
    {
     "data": {
      "image/png": "[encoded data removed]",
      "text/plain": [
       "<Figure size 720x504 with 1 Axes>"
      ]
     },
     "metadata": {
      "needs_background": "light"
     },
     "output_type": "display_data"
    }
   ],
   "source": [
    "plt.figure(figsize=(10, 7))\n",
    "df.isnull().sum().plot(kind=\"bar\", color=\"tomato\");"
   ]
  },
  {
   "cell_type": "markdown",
   "id": "a81712fa",
   "metadata": {},
   "source": [
    "*Оставшиеся признаки с пропущенными значениями заменю на статистические велечины, так как это один из самых надежных способов.*"
   ]
  },
  {
   "cell_type": "code",
   "execution_count": 6,
   "id": "870dde82",
   "metadata": {},
   "outputs": [
    {
     "ename": "KeyError",
     "evalue": "0",
     "output_type": "error",
     "traceback": [
      "\u001b[1;31m---------------------------------------------------------------------------\u001b[0m",
      "\u001b[1;31mValueError\u001b[0m                                Traceback (most recent call last)",
      "File \u001b[1;32mc:\\users\\blend\\appdata\\local\\programs\\python\\python38\\lib\\site-packages\\pandas\\core\\indexes\\range.py:385\u001b[0m, in \u001b[0;36mRangeIndex.get_loc\u001b[1;34m(self, key, method, tolerance)\u001b[0m\n\u001b[0;32m    384\u001b[0m \u001b[38;5;28;01mtry\u001b[39;00m:\n\u001b[1;32m--> 385\u001b[0m     \u001b[38;5;28;01mreturn\u001b[39;00m \u001b[38;5;28;43mself\u001b[39;49m\u001b[38;5;241;43m.\u001b[39;49m\u001b[43m_range\u001b[49m\u001b[38;5;241;43m.\u001b[39;49m\u001b[43mindex\u001b[49m\u001b[43m(\u001b[49m\u001b[43mnew_key\u001b[49m\u001b[43m)\u001b[49m\n\u001b[0;32m    386\u001b[0m \u001b[38;5;28;01mexcept\u001b[39;00m \u001b[38;5;167;01mValueError\u001b[39;00m \u001b[38;5;28;01mas\u001b[39;00m err:\n",
      "\u001b[1;31mValueError\u001b[0m: 0 is not in range",
      "\nThe above exception was the direct cause of the following exception:\n",
      "\u001b[1;31mKeyError\u001b[0m                                  Traceback (most recent call last)",
      "Input \u001b[1;32mIn [6]\u001b[0m, in \u001b[0;36m<cell line: 1>\u001b[1;34m()\u001b[0m\n\u001b[1;32m----> 1\u001b[0m df\u001b[38;5;241m.\u001b[39mIncome\u001b[38;5;241m.\u001b[39mfillna(\u001b[43mdf\u001b[49m\u001b[38;5;241;43m.\u001b[39;49m\u001b[43mIncome\u001b[49m\u001b[38;5;241;43m.\u001b[39;49m\u001b[43mmode\u001b[49m\u001b[43m(\u001b[49m\u001b[43m)\u001b[49m\u001b[43m[\u001b[49m\u001b[38;5;241;43m0\u001b[39;49m\u001b[43m]\u001b[49m, inplace\u001b[38;5;241m=\u001b[39m\u001b[38;5;28;01mTrue\u001b[39;00m)\n",
      "File \u001b[1;32mc:\\users\\blend\\appdata\\local\\programs\\python\\python38\\lib\\site-packages\\pandas\\core\\series.py:958\u001b[0m, in \u001b[0;36mSeries.__getitem__\u001b[1;34m(self, key)\u001b[0m\n\u001b[0;32m    955\u001b[0m     \u001b[38;5;28;01mreturn\u001b[39;00m \u001b[38;5;28mself\u001b[39m\u001b[38;5;241m.\u001b[39m_values[key]\n\u001b[0;32m    957\u001b[0m \u001b[38;5;28;01melif\u001b[39;00m key_is_scalar:\n\u001b[1;32m--> 958\u001b[0m     \u001b[38;5;28;01mreturn\u001b[39;00m \u001b[38;5;28;43mself\u001b[39;49m\u001b[38;5;241;43m.\u001b[39;49m\u001b[43m_get_value\u001b[49m\u001b[43m(\u001b[49m\u001b[43mkey\u001b[49m\u001b[43m)\u001b[49m\n\u001b[0;32m    960\u001b[0m \u001b[38;5;28;01mif\u001b[39;00m is_hashable(key):\n\u001b[0;32m    961\u001b[0m     \u001b[38;5;66;03m# Otherwise index.get_value will raise InvalidIndexError\u001b[39;00m\n\u001b[0;32m    962\u001b[0m     \u001b[38;5;28;01mtry\u001b[39;00m:\n\u001b[0;32m    963\u001b[0m         \u001b[38;5;66;03m# For labels that don't resolve as scalars like tuples and frozensets\u001b[39;00m\n",
      "File \u001b[1;32mc:\\users\\blend\\appdata\\local\\programs\\python\\python38\\lib\\site-packages\\pandas\\core\\series.py:1069\u001b[0m, in \u001b[0;36mSeries._get_value\u001b[1;34m(self, label, takeable)\u001b[0m\n\u001b[0;32m   1066\u001b[0m     \u001b[38;5;28;01mreturn\u001b[39;00m \u001b[38;5;28mself\u001b[39m\u001b[38;5;241m.\u001b[39m_values[label]\n\u001b[0;32m   1068\u001b[0m \u001b[38;5;66;03m# Similar to Index.get_value, but we do not fall back to positional\u001b[39;00m\n\u001b[1;32m-> 1069\u001b[0m loc \u001b[38;5;241m=\u001b[39m \u001b[38;5;28;43mself\u001b[39;49m\u001b[38;5;241;43m.\u001b[39;49m\u001b[43mindex\u001b[49m\u001b[38;5;241;43m.\u001b[39;49m\u001b[43mget_loc\u001b[49m\u001b[43m(\u001b[49m\u001b[43mlabel\u001b[49m\u001b[43m)\u001b[49m\n\u001b[0;32m   1070\u001b[0m \u001b[38;5;28;01mreturn\u001b[39;00m \u001b[38;5;28mself\u001b[39m\u001b[38;5;241m.\u001b[39mindex\u001b[38;5;241m.\u001b[39m_get_values_for_loc(\u001b[38;5;28mself\u001b[39m, loc, label)\n",
      "File \u001b[1;32mc:\\users\\blend\\appdata\\local\\programs\\python\\python38\\lib\\site-packages\\pandas\\core\\indexes\\range.py:387\u001b[0m, in \u001b[0;36mRangeIndex.get_loc\u001b[1;34m(self, key, method, tolerance)\u001b[0m\n\u001b[0;32m    385\u001b[0m         \u001b[38;5;28;01mreturn\u001b[39;00m \u001b[38;5;28mself\u001b[39m\u001b[38;5;241m.\u001b[39m_range\u001b[38;5;241m.\u001b[39mindex(new_key)\n\u001b[0;32m    386\u001b[0m     \u001b[38;5;28;01mexcept\u001b[39;00m \u001b[38;5;167;01mValueError\u001b[39;00m \u001b[38;5;28;01mas\u001b[39;00m err:\n\u001b[1;32m--> 387\u001b[0m         \u001b[38;5;28;01mraise\u001b[39;00m \u001b[38;5;167;01mKeyError\u001b[39;00m(key) \u001b[38;5;28;01mfrom\u001b[39;00m \u001b[38;5;21;01merr\u001b[39;00m\n\u001b[0;32m    388\u001b[0m \u001b[38;5;28mself\u001b[39m\u001b[38;5;241m.\u001b[39m_check_indexing_error(key)\n\u001b[0;32m    389\u001b[0m \u001b[38;5;28;01mraise\u001b[39;00m \u001b[38;5;167;01mKeyError\u001b[39;00m(key)\n",
      "\u001b[1;31mKeyError\u001b[0m: 0"
     ]
    }
   ],
   "source": [
    "df.Income.fillna(df.Income.mode()[0], inplace=True)"
   ]
  },
  {
   "cell_type": "markdown",
   "id": "178096dc",
   "metadata": {},
   "source": [
    "**Удаление аномалий**"
   ]
  },
  {
   "cell_type": "markdown",
   "id": "38d98282",
   "metadata": {},
   "source": [
    "*Теперь стоит избавиться от выбросов в данных, для этого всем выбросам дадим значние nan и заменим на медианное значение*"
   ]
  },
  {
   "cell_type": "code",
   "execution_count": null,
   "id": "ef2c3e90",
   "metadata": {},
   "outputs": [],
   "source": [
    "df_nomic=data.select_dtypes(include=[np.number])\n",
    "nomic_cols=df_nomic.columns.values\n",
    "for col in nomic_cols:\n",
    "    missing=data[col].isnull()\n",
    "    df_missing=np.sum(missing)\n",
    "    if df_missing>0:\n",
    "        print('inpytying missing value for:{}'.format(col))\n",
    "        med=data[col].median()\n",
    "        data[col]=data[col].fillna(med)"
   ]
  },
  {
   "cell_type": "markdown",
   "id": "d1802340",
   "metadata": {},
   "source": [
    "### Задание 3 (1 балл): новые признаки"
   ]
  },
  {
   "cell_type": "markdown",
   "id": "6f7adebd",
   "metadata": {},
   "source": [
    "*Можно разделить дату на три признака, дата , день и месяц.Тем самым мы упростим наши данные.*"
   ]
  },
  {
   "cell_type": "code",
   "execution_count": null,
   "id": "28dfeae2",
   "metadata": {},
   "outputs": [],
   "source": [
    "df['Day']=df['Dt_Customer'].dt.weekday"
   ]
  },
  {
   "cell_type": "code",
   "execution_count": null,
   "id": "3f34e790",
   "metadata": {},
   "outputs": [],
   "source": [
    "df['Month']=df['Dt_Customer'].dt.month"
   ]
  },
  {
   "cell_type": "code",
   "execution_count": null,
   "id": "7a08958b",
   "metadata": {},
   "outputs": [],
   "source": [
    "df['Year']=df['Dt_Customer'].dt.year"
   ]
  },
  {
   "cell_type": "markdown",
   "id": "98fb61a5",
   "metadata": {},
   "source": [
    "### Задание 4 (2.5 балла): время статистики!"
   ]
  },
  {
   "cell_type": "code",
   "execution_count": null,
   "id": "e0d03f77",
   "metadata": {},
   "outputs": [],
   "source": [
    "df.describe()"
   ]
  },
  {
   "cell_type": "markdown",
   "id": "8a0396bd",
   "metadata": {},
   "source": [
    "*По представленным данным можн сделать вывод, что в данных после обработки выбросов практически нет, так как медианное и среднее значение практически не отличаются.Дисперсия большая присутствует только в трех признаках, это тоже хорошо, так как данные очень хорошо обучаются с низкой дисперсией.*"
   ]
  },
  {
   "cell_type": "markdown",
   "id": "b0328e60",
   "metadata": {},
   "source": [
    "### Задание 5 (1 балл): корреляции"
   ]
  },
  {
   "cell_type": "markdown",
   "id": "9527ed79",
   "metadata": {},
   "source": [
    "*Чтобы посчитать взаимосвязи между переменными, можно использовать коэффициент корреляции Пирсона. Это мера интенсивности и направления линейной зависимости между двумя переменными. Значение +1 означает идеально линейную положительную зависимость, а -1 означает идеально линейную отрицательную зависимость. Хотя этот коэффициент не может отражать нелинейные зависимости, с него можно начать оценку взаимосвязей переменных. В Pandas можно легко вычислить корреляции между любыми колонками в кадре данных (dataframe):*"
   ]
  },
  {
   "cell_type": "code",
   "execution_count": null,
   "id": "d8ee3894",
   "metadata": {},
   "outputs": [],
   "source": [
    "# Select the numeric columns\n",
    "numeric_subset = df.select_dtypes('number')\n",
    "\n",
    "# Create columns with square root and log of numeric columns\n",
    "for col in numeric_subset.columns:\n",
    "    # Skip the Energy Star Score column\n",
    "    if col == 'AcceptedCmp4':\n",
    "        next\n",
    "    else:\n",
    "        numeric_subset['sqrt_' + col] = np.sqrt(numeric_subset[col])\n",
    "        numeric_subset['log_' + col] = np.log(numeric_subset[col])\n",
    "\n",
    "# Select the categorical columns\n",
    "categorical_subset = df[['AcceptedCmp3', 'AcceptedCmp5']]\n",
    "\n",
    "# One hot encode\n",
    "categorical_subset = pd.get_dummies(categorical_subset)\n",
    "\n",
    "# Join the two dataframes using concat\n",
    "# Make sure to use axis = 1 to perform a column bind\n",
    "features = pd.concat([numeric_subset, categorical_subset], axis = 1)\n",
    "\n",
    "# Drop buildings without an energy star score\n",
    "features = features.dropna(subset = ['AcceptedCmp4'])\n",
    "\n",
    "# Find correlations with the score \n",
    "correlations = features.corr()['AcceptedCmp4'].dropna().sort_values()"
   ]
  },
  {
   "cell_type": "code",
   "execution_count": null,
   "id": "1ff94ba2",
   "metadata": {},
   "outputs": [],
   "source": [
    "correlations.head(3)"
   ]
  },
  {
   "cell_type": "markdown",
   "id": "5b8a103d",
   "metadata": {},
   "source": [
    "### Задание 6 (2 балла) : визуализации"
   ]
  },
  {
   "cell_type": "code",
   "execution_count": null,
   "id": "1fd7c79c",
   "metadata": {},
   "outputs": [],
   "source": [
    "df.hist(figsize=(15,10),color=\"c\",bins=50);"
   ]
  },
  {
   "cell_type": "markdown",
   "id": "7ed7aba6",
   "metadata": {},
   "source": [
    "*На графике видно, что данные расположены относительно неплохо, так как практически все они семмитричны(большое занчение находится в середине, а меньшие по бокам)*"
   ]
  },
  {
   "cell_type": "code",
   "execution_count": null,
   "id": "a661b15b",
   "metadata": {},
   "outputs": [],
   "source": [
    "sns.pairplot(df);"
   ]
  },
  {
   "cell_type": "markdown",
   "id": "bb4cc923",
   "metadata": {},
   "source": [
    "*Видно, что в выборке нет выбросов, а также , большинство признаков не имеют схожести, это озночает, что такие признаки можно оставить*"
   ]
  },
  {
   "cell_type": "code",
   "execution_count": null,
   "id": "24a28801",
   "metadata": {},
   "outputs": [],
   "source": [
    "sns.boxplot(data=df, palette='Spectral');"
   ]
  },
  {
   "cell_type": "markdown",
   "id": "dd7449f6",
   "metadata": {},
   "source": [
    "*На этои графике видно, что большинство значений имеет низкое среднее значение, и как ранее было замечено выбросов в данных не присутствует.*"
   ]
  },
  {
   "cell_type": "code",
   "execution_count": null,
   "id": "e5cad40a",
   "metadata": {},
   "outputs": [],
   "source": [
    "sns.distplot(df['Year_Birth']);"
   ]
  },
  {
   "cell_type": "markdown",
   "id": "b286bf2a",
   "metadata": {},
   "source": [
    "*На этомграфике видно распределения признака Year_Birth, он также хорошо располжен и семетричен.*"
   ]
  },
  {
   "cell_type": "markdown",
   "id": "eab2fdb7",
   "metadata": {},
   "source": [
    "### Задание 7 (1 балл): немного исследований"
   ]
  },
  {
   "cell_type": "code",
   "execution_count": null,
   "id": "30793d83",
   "metadata": {},
   "outputs": [],
   "source": [
    "df[(df[\"Marital_Status\"] ==\"Together\") & (df[\"Country\"] ==\"AUS\")]"
   ]
  },
  {
   "cell_type": "markdown",
   "id": "b9833f45",
   "metadata": {},
   "source": [
    "*Мы определили, что с материальным статусом Together в стране AUS существует 41 человек*"
   ]
  }
 ],
 "metadata": {
  "kernelspec": {
   "display_name": "Python 3 (ipykernel)",
   "language": "python",
   "name": "python3"
  },
  "language_info": {
   "codemirror_mode": {
    "name": "ipython",
    "version": 3
   },
   "file_extension": ".py",
   "mimetype": "text/x-python",
   "name": "python",
   "nbconvert_exporter": "python",
   "pygments_lexer": "ipython3",
   "version": "3.8.0"
  }
 },
 "nbformat": 4,
 "nbformat_minor": 5
}
